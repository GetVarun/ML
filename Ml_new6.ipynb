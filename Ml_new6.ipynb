{
 "cells": [
  {
   "cell_type": "markdown",
   "metadata": {},
   "source": [
    "# KNN - K- Nearest neighbor"
   ]
  },
  {
   "cell_type": "markdown",
   "metadata": {},
   "source": [
    "When to use\n",
    "* Supervised learning used for both regression and classification (mostly will use for classification)\n",
    "* No model training-->Simply stores the data\n",
    "* It calculates the result during model.predict() with the help of euclidean distance\n",
    "* we can use only for small-medium dataset\n",
    "\n",
    "When not to use\n",
    "* large dataset"
   ]
  },
  {
   "cell_type": "code",
   "execution_count": null,
   "metadata": {
    "vscode": {
     "languageId": "plaintext"
    }
   },
   "outputs": [],
   "source": []
  }
 ],
 "metadata": {
  "language_info": {
   "name": "python"
  }
 },
 "nbformat": 4,
 "nbformat_minor": 2
}
